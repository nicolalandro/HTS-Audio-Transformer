{
 "cells": [
  {
   "cell_type": "code",
   "execution_count": 2,
   "metadata": {},
   "outputs": [],
   "source": [
    "import os\n",
    "import json\n",
    "import librosa\n",
    "import numpy as np\n",
    "from tqdm import tqdm"
   ]
  },
  {
   "cell_type": "code",
   "execution_count": 3,
   "metadata": {},
   "outputs": [],
   "source": [
    "train_path = '/home/super/datasets-nas/audio_merged_dataset/esc50_urbansound/train'\n",
    "test_path = '/home/super/datasets-nas/audio_merged_dataset/esc50_urbansound/test'\n",
    "out_class_json = '/home/super/datasets-nas/audio_merged_dataset/esc50_urbansound/classes.json'\n",
    "out_prepared_dataset = '/home/super/datasets-nas/audio_merged_dataset/esc50_urbansound/esc50_urbansound.npy'"
   ]
  },
  {
   "cell_type": "code",
   "execution_count": 4,
   "metadata": {},
   "outputs": [
    {
     "name": "stdout",
     "output_type": "stream",
     "text": [
      "['airplane', 'car_horn', 'chainsaw', 'children_playing', 'church_bells', 'dog_bark', 'drilling', 'engine', 'fireworks', 'hand_saw', 'helicopter', 'jackhammer', 'siren', 'street_music', 'train']\n"
     ]
    }
   ],
   "source": [
    "classes = os.listdir(train_path)\n",
    "classes.sort()\n",
    "print(classes)\n",
    "\n",
    "with open(out_class_json, 'w') as f:\n",
    "    json.dump({i:v for i, v in enumerate(classes)}, f)\n",
    "\n",
    "class2index = {v:i for i, v in enumerate(classes)}"
   ]
  },
  {
   "cell_type": "code",
   "execution_count": 4,
   "metadata": {},
   "outputs": [
    {
     "name": "stderr",
     "output_type": "stream",
     "text": [
      "100%|██████████| 15/15 [04:03<00:00, 16.24s/it]\n",
      "100%|██████████| 15/15 [01:06<00:00,  4.44s/it]\n"
     ]
    }
   ],
   "source": [
    "audio_len = []\n",
    "for fold_number, fold_path in enumerate([train_path, test_path]):\n",
    "    for c in tqdm(os.listdir(fold_path)):\n",
    "        class_id = int(class2index[c])\n",
    "        for file_name in os.listdir(os.path.join(fold_path, c)):\n",
    "            file_path = os.path.join(fold_path, c, file_name)\n",
    "            \n",
    "            ## loading audio file\n",
    "            audio, sr = librosa.load(file_path, sr=32000, res_type='kaiser_fast')\n",
    "            audio_len.append(len(audio))"
   ]
  },
  {
   "cell_type": "code",
   "execution_count": 5,
   "metadata": {},
   "outputs": [
    {
     "data": {
      "text/plain": [
       "array([[<AxesSubplot:title={'center':'0'}>]], dtype=object)"
      ]
     },
     "execution_count": 5,
     "metadata": {},
     "output_type": "execute_result"
    },
    {
     "data": {
      "image/png": "[encoded data removed]",
      "text/plain": [
       "<Figure size 432x288 with 1 Axes>"
      ]
     },
     "metadata": {
      "needs_background": "light"
     },
     "output_type": "display_data"
    }
   ],
   "source": [
    "import pandas as pd\n",
    "\n",
    "df = pd.DataFrame(audio_len)\n",
    "df.hist()"
   ]
  },
  {
   "cell_type": "code",
   "execution_count": 7,
   "metadata": {},
   "outputs": [
    {
     "name": "stderr",
     "output_type": "stream",
     "text": [
      "  0%|          | 0/15 [00:00<?, ?it/s]"
     ]
    },
    {
     "name": "stdout",
     "output_type": "stream",
     "text": [
      "rel max: 6080\n",
      "rel max: 7881\n",
      "rel max: 160000\n"
     ]
    },
    {
     "name": "stderr",
     "output_type": "stream",
     "text": [
      "100%|██████████| 15/15 [01:45<00:00,  7.05s/it]\n",
      "100%|██████████| 15/15 [00:26<00:00,  1.78s/it]"
     ]
    },
    {
     "name": "stdout",
     "output_type": "stream",
     "text": [
      "real max: 160000 pad: 129173\n"
     ]
    },
    {
     "name": "stderr",
     "output_type": "stream",
     "text": [
      "\n"
     ]
    }
   ],
   "source": [
    "output_dict = [[] for _ in range(10)]\n",
    "max_audio_len = 129173\n",
    "max = 0\n",
    "for fold_number, fold_path in enumerate([train_path, test_path]):\n",
    "    for c in tqdm(os.listdir(fold_path)):\n",
    "        class_id = int(class2index[c])\n",
    "        for file_name in os.listdir(os.path.join(fold_path, c)):\n",
    "            file_path = os.path.join(fold_path, c, file_name)\n",
    "            \n",
    "            ## loading audio file\n",
    "            audio, sr = librosa.load(file_path, sr=32000, res_type='kaiser_fast')\n",
    "\n",
    "            if len(audio) > max:\n",
    "                max = len(audio)\n",
    "                print('rel max:', max)\n",
    "            if len(audio) > max_audio_len:\n",
    "                audio = audio[:max_audio_len]\n",
    "            else:\n",
    "                audio = np.pad(audio, (0, max_audio_len - len(audio)), 'constant', constant_values=0)\n",
    "\n",
    "            output_dict[fold_number].append(\n",
    "            {\n",
    "                \"name\": file_name,\n",
    "                \"target\": int(class_id),\n",
    "                \"waveform\": audio\n",
    "            }\n",
    "            )\n",
    "print('real max:', max, 'pad:', max_audio_len)"
   ]
  },
  {
   "cell_type": "code",
   "execution_count": 8,
   "metadata": {},
   "outputs": [
    {
     "name": "stderr",
     "output_type": "stream",
     "text": [
      "/home/super/nic/HTS-Audio-Transformer/venv/lib/python3.8/site-packages/numpy/lib/npyio.py:518: VisibleDeprecationWarning: Creating an ndarray from ragged nested sequences (which is a list-or-tuple of lists-or-tuples-or ndarrays with different lengths or shapes) is deprecated. If you meant to do this, you must specify 'dtype=object' when creating the ndarray.\n",
      "  arr = np.asanyarray(arr)\n"
     ]
    }
   ],
   "source": [
    "np.save(out_prepared_dataset, output_dict)"
   ]
  }
 ],
 "metadata": {
  "kernelspec": {
   "display_name": "Python 3.8.10 ('venv': venv)",
   "language": "python",
   "name": "python3"
  },
  "language_info": {
   "codemirror_mode": {
    "name": "ipython",
    "version": 3
   },
   "file_extension": ".py",
   "mimetype": "text/x-python",
   "name": "python",
   "nbconvert_exporter": "python",
   "pygments_lexer": "ipython3",
   "version": "3.8.10"
  },
  "orig_nbformat": 4,
  "vscode": {
   "interpreter": {
    "hash": "04e782a084bc6f5eb519351a3748cb6f9ab106a13f7a922972c42e4274c75f90"
   }
  }
 },
 "nbformat": 4,
 "nbformat_minor": 2
}
