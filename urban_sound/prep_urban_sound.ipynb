{
 "cells": [
  {
   "cell_type": "code",
   "execution_count": 9,
   "metadata": {},
   "outputs": [],
   "source": [
    "import os\n",
    "import pandas as pd\n",
    "from tqdm import tqdm\n",
    "import librosa"
   ]
  },
  {
   "cell_type": "code",
   "execution_count": 10,
   "metadata": {},
   "outputs": [],
   "source": [
    "audio_path = '/home/super/datasets-nas/UrbanSound8K/audio/'\n",
    "meta = pd.read_csv('/home/super/datasets-nas/UrbanSound8K/metadata/UrbanSound8K.csv')"
   ]
  },
  {
   "cell_type": "code",
   "execution_count": 12,
   "metadata": {},
   "outputs": [
    {
     "name": "stderr",
     "output_type": "stream",
     "text": [
      "8it [00:00, 72.20it/s]"
     ]
    },
    {
     "name": "stdout",
     "output_type": "stream",
     "text": [
      "rel max: 128000\n"
     ]
    },
    {
     "name": "stderr",
     "output_type": "stream",
     "text": [
      "873it [00:12, 70.38it/s]\n",
      "888it [00:11, 75.92it/s]\n",
      "925it [00:12, 75.18it/s]\n",
      "990it [00:13, 73.54it/s]\n",
      "553it [00:07, 75.20it/s]"
     ]
    },
    {
     "name": "stdout",
     "output_type": "stream",
     "text": [
      "rel max: 128254\n"
     ]
    },
    {
     "name": "stderr",
     "output_type": "stream",
     "text": [
      "936it [00:12, 74.66it/s]\n",
      "823it [00:10, 76.16it/s]\n",
      "838it [00:11, 73.31it/s]\n",
      "566it [00:08, 77.85it/s]"
     ]
    },
    {
     "name": "stdout",
     "output_type": "stream",
     "text": [
      "rel max: 129173\n"
     ]
    },
    {
     "name": "stderr",
     "output_type": "stream",
     "text": [
      "806it [00:11, 71.74it/s]\n",
      "816it [00:11, 73.12it/s]\n",
      "837it [00:11, 72.45it/s]"
     ]
    },
    {
     "name": "stdout",
     "output_type": "stream",
     "text": [
      "real max: 129173 pad: 129173\n"
     ]
    },
    {
     "name": "stderr",
     "output_type": "stream",
     "text": [
      "\n"
     ]
    }
   ],
   "source": [
    "output_dict = [[] for _ in range(10)]\n",
    "max_audio_len = 129173\n",
    "max = 0\n",
    "for fold_id in range(1, 11):\n",
    "    meta_fold = meta[meta.loc[:, 'fold'] == fold_id]\n",
    "    fold_path = f'fold{fold_id}'\n",
    "    for (file_name, class_id) in tqdm(zip(meta_fold['slice_file_name'],\n",
    "        meta_fold['classID'])):\n",
    "        file_path = os.path.join(audio_path, fold_path, file_name)\n",
    "        \n",
    "        ## loading audio file\n",
    "        audio, sr = librosa.load(file_path, sr=32000, res_type='kaiser_fast')\n",
    "\n",
    "        if len(audio) > max:\n",
    "            max = len(audio)\n",
    "            print('rel max:', max)\n",
    "        audio = np.pad(audio, (0, max_audio_len - len(audio)), 'constant', constant_values=0)\n",
    "\n",
    "        output_dict[int(fold_id) - 1].append(\n",
    "        {\n",
    "            \"name\": file_name,\n",
    "            \"target\": int(class_id),\n",
    "            \"waveform\": audio\n",
    "        }\n",
    "    )\n",
    "print('real max:', max, 'pad:', max_audio_len)"
   ]
  },
  {
   "cell_type": "code",
   "execution_count": 13,
   "metadata": {},
   "outputs": [
    {
     "name": "stderr",
     "output_type": "stream",
     "text": [
      "/home/super/nic/HTS-Audio-Transformer/venv/lib/python3.8/site-packages/numpy/lib/npyio.py:518: VisibleDeprecationWarning: Creating an ndarray from ragged nested sequences (which is a list-or-tuple of lists-or-tuples-or ndarrays with different lengths or shapes) is deprecated. If you meant to do this, you must specify 'dtype=object' when creating the ndarray.\n",
      "  arr = np.asanyarray(arr)\n"
     ]
    }
   ],
   "source": [
    "import numpy as np\n",
    "np.save(\"/home/super/datasets-nas/UrbanSound8K/urbansound32k-data.npy\", output_dict)"
   ]
  }
 ],
 "metadata": {
  "kernelspec": {
   "display_name": "Python 3.8.10 ('venv': venv)",
   "language": "python",
   "name": "python3"
  },
  "language_info": {
   "codemirror_mode": {
    "name": "ipython",
    "version": 3
   },
   "file_extension": ".py",
   "mimetype": "text/x-python",
   "name": "python",
   "nbconvert_exporter": "python",
   "pygments_lexer": "ipython3",
   "version": "3.8.10"
  },
  "orig_nbformat": 4,
  "vscode": {
   "interpreter": {
    "hash": "04e782a084bc6f5eb519351a3748cb6f9ab106a13f7a922972c42e4274c75f90"
   }
  }
 },
 "nbformat": 4,
 "nbformat_minor": 2
}
